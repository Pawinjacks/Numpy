{
 "cells": [
  {
   "cell_type": "code",
   "execution_count": 2,
   "id": "cf1320c1-3924-4470-8bb2-214ae4dd06ea",
   "metadata": {},
   "outputs": [
    {
     "name": "stdout",
     "output_type": "stream",
     "text": [
      "[5 2 3 1 4 4]\n",
      "1\n",
      "(6,)\n"
     ]
    }
   ],
   "source": [
    "import numpy as np\n",
    "n1=np.array([5,2,3,1,4,4])\n",
    "print(n1)\n",
    "print(n1.ndim)\n",
    "print(n1.shape)\n"
   ]
  },
  {
   "cell_type": "code",
   "execution_count": 3,
   "id": "4fbe7ceb-c4ad-4b7e-8521-15a553ff6fc6",
   "metadata": {},
   "outputs": [
    {
     "name": "stdout",
     "output_type": "stream",
     "text": [
      "[[5 3 2 6 1]\n",
      " [8 2 9 5 1]]\n",
      "2\n",
      "2\n"
     ]
    }
   ],
   "source": [
    "n2=np.array([[5,3,2,6,1],[8,2,9,5,1]])\n",
    "print(n2)\n",
    "print(n2[0,2])\n",
    "print(n2.ndim)\n"
   ]
  },
  {
   "cell_type": "code",
   "execution_count": 4,
   "id": "260aa646-8c2a-4502-9c9b-b97a896bd892",
   "metadata": {},
   "outputs": [
    {
     "name": "stdout",
     "output_type": "stream",
     "text": [
      "[[0 0]\n",
      " [0 0]\n",
      " [0 0]]\n"
     ]
    }
   ],
   "source": [
    "n3=np.zeros([3,2],dtype=\"int\")\n",
    "print(n3)\n"
   ]
  },
  {
   "cell_type": "code",
   "execution_count": 5,
   "id": "4547e558-2857-4491-87ec-9a54b151c403",
   "metadata": {},
   "outputs": [
    {
     "name": "stdout",
     "output_type": "stream",
     "text": [
      "[[[1 1 1 1]\n",
      "  [1 1 1 1]\n",
      "  [1 1 1 1]]\n",
      "\n",
      " [[1 1 1 1]\n",
      "  [1 1 1 1]\n",
      "  [1 1 1 1]]\n",
      "\n",
      " [[1 1 1 1]\n",
      "  [1 1 1 1]\n",
      "  [1 1 1 1]]]\n"
     ]
    }
   ],
   "source": [
    "n4=np.ones([3,3,4],dtype=\"int\")\n",
    "print(n4)\n"
   ]
  },
  {
   "cell_type": "code",
   "execution_count": 6,
   "id": "09d41f30-a09f-4552-bc9e-04be8c0d56f4",
   "metadata": {},
   "outputs": [
    {
     "name": "stdout",
     "output_type": "stream",
     "text": [
      "[[0.00000000e+000 1.92765140e+164 1.37740591e-311]\n",
      " [1.37740591e-311 3.95252517e-323 5.92878775e-323]]\n"
     ]
    }
   ],
   "source": [
    "n_emp=np.empty([2,3])\n",
    "print(n_emp)\n"
   ]
  },
  {
   "cell_type": "code",
   "execution_count": 7,
   "id": "93dc3aa5-e898-411f-906a-2d94eafad33a",
   "metadata": {},
   "outputs": [
    {
     "name": "stdout",
     "output_type": "stream",
     "text": [
      "[0 1 2 3 4 5 6 7 8 9]\n",
      "<class 'range'>\n"
     ]
    }
   ],
   "source": [
    "print(np.arange(10))\n",
    "print(range)\n"
   ]
  },
  {
   "cell_type": "code",
   "execution_count": 8,
   "id": "8a1125be-42e5-45e9-bb15-60e8af963fed",
   "metadata": {},
   "outputs": [
    {
     "name": "stdout",
     "output_type": "stream",
     "text": [
      "[5 6 7 8 9]\n"
     ]
    }
   ],
   "source": [
    "num_range=np.arange(5,10)\n",
    "print(num_range)\n"
   ]
  },
  {
   "cell_type": "code",
   "execution_count": 9,
   "id": "de3b0f23-f38b-4331-9bdd-e2ad34b70d9e",
   "metadata": {},
   "outputs": [
    {
     "name": "stdout",
     "output_type": "stream",
     "text": [
      "[ 5  8 11 14 17]\n"
     ]
    }
   ],
   "source": [
    "num_range=np.arange(5,20,3)\n",
    "print(num_range)\n"
   ]
  },
  {
   "cell_type": "code",
   "execution_count": 10,
   "id": "bd6bd2f3-8a7d-4f17-95ee-a5e12e2c8a6b",
   "metadata": {},
   "outputs": [
    {
     "name": "stdout",
     "output_type": "stream",
     "text": [
      "[ 5.          7.14285714  9.28571429 11.42857143 13.57142857 15.71428571\n",
      " 17.85714286 20.        ]\n"
     ]
    }
   ],
   "source": [
    "numbers=np.linspace(5,20,8)\n",
    "print(numbers)\n"
   ]
  },
  {
   "cell_type": "code",
   "execution_count": 11,
   "id": "f2a15a3f-16f8-432e-9ae2-eefe75360f05",
   "metadata": {},
   "outputs": [
    {
     "name": "stdout",
     "output_type": "stream",
     "text": [
      "[[35 35]\n",
      " [35 35]\n",
      " [35 35]]\n"
     ]
    }
   ],
   "source": [
    "number1=np.full([3,2],35)\n",
    "print(number1)\n"
   ]
  },
  {
   "cell_type": "code",
   "execution_count": 12,
   "id": "df01fd84-8dd0-4e9a-99b7-a73cbbab7ff5",
   "metadata": {},
   "outputs": [
    {
     "name": "stdout",
     "output_type": "stream",
     "text": [
      "[[10. 10. 10.]\n",
      " [10. 10. 10.]]\n"
     ]
    }
   ],
   "source": [
    "n_emp.fill(10)\n",
    "print(n_emp)\n"
   ]
  },
  {
   "cell_type": "code",
   "execution_count": 13,
   "id": "9652bff2-b0f2-4321-ace9-d9f651283c96",
   "metadata": {},
   "outputs": [
    {
     "name": "stdout",
     "output_type": "stream",
     "text": [
      "4\n",
      "[8 2 9 5 1]\n",
      "[2 9]\n",
      "9\n",
      "[[[ 1  1  1  1]\n",
      "  [ 1  1  1  1]\n",
      "  [ 1  1  1  1]]\n",
      "\n",
      " [[ 1  1  1  1]\n",
      "  [ 1  1 10  1]\n",
      "  [ 1  1  1  1]]\n",
      "\n",
      " [[ 1  1  1  1]\n",
      "  [ 1  1  1  1]\n",
      "  [ 1  1  1  1]]]\n"
     ]
    }
   ],
   "source": [
    "print(n1[-2])\n",
    "print(n2[1,:])\n",
    "print(n2[:,2])\n",
    "print(n2[1,2])\n",
    "n4[1,1,2]=10\n",
    "print(n4)"
   ]
  },
  {
   "cell_type": "code",
   "execution_count": 14,
   "id": "86f6a4bb-4d0f-4667-a133-527df77f0ce2",
   "metadata": {},
   "outputs": [
    {
     "name": "stdout",
     "output_type": "stream",
     "text": [
      "3\n",
      "(3, 3, 4)\n",
      "36\n",
      "int64\n",
      "8\n",
      "288\n"
     ]
    }
   ],
   "source": [
    "print(n4.ndim)\n",
    "print(n4.shape)\n",
    "print(n4.size)\n",
    "print(n4.dtype)\n",
    "print(n4.itemsize)\n",
    "print(n4.nbytes)\n"
   ]
  },
  {
   "cell_type": "code",
   "execution_count": 15,
   "id": "e4d42e6f-0150-473d-a911-93863ea53518",
   "metadata": {},
   "outputs": [
    {
     "name": "stdout",
     "output_type": "stream",
     "text": [
      "[1 2 3 4 4 5]\n",
      "[[5 3 2 6 1]\n",
      " [8 2 9 5 1]]\n",
      "[[5 2 2 5 1]\n",
      " [8 3 9 6 1]]\n",
      "[[1 2 3 5 6]\n",
      " [1 2 5 8 9]]\n"
     ]
    }
   ],
   "source": [
    "print(np.sort(n1))\n",
    "print(n2)\n",
    "n20=np.sort(n2,axis=0)\n",
    "print(n20)\n",
    "n20=np.sort(n2,axis=1)\n",
    "print(n20)\n"
   ]
  },
  {
   "cell_type": "code",
   "execution_count": 16,
   "id": "d2982522-f638-43f6-abee-2ccd209cd49b",
   "metadata": {},
   "outputs": [
    {
     "name": "stdout",
     "output_type": "stream",
     "text": [
      "[ 1  2  3  4  5  6  7  8  9 10]\n",
      "[[ 1  2  3  4  5]\n",
      " [ 6  7  8  9 10]]\n"
     ]
    }
   ],
   "source": [
    "n1d=np.array([1,2,3,4,5,6,7,8,9,10])\n",
    "print(n1d)\n",
    "n2d=n1d.reshape(2,5)\n",
    "print(n2d)\n"
   ]
  },
  {
   "cell_type": "code",
   "execution_count": 17,
   "id": "89763707-3dea-41fc-8a37-0885a05eb82f",
   "metadata": {},
   "outputs": [
    {
     "name": "stdout",
     "output_type": "stream",
     "text": [
      "[13 14 15 16 17 18]\n",
      "[ 5  2  3  1  4  4 13 14 15 16 17 18]\n"
     ]
    }
   ],
   "source": [
    "n11=np.arange(13,19)\n",
    "print(n11)\n",
    "nconcat=np.concatenate((n1,n11))\n",
    "print(nconcat)\n"
   ]
  },
  {
   "cell_type": "code",
   "execution_count": 18,
   "id": "ee393834-a01a-4a0c-95b4-1d2f4db70009",
   "metadata": {},
   "outputs": [
    {
     "name": "stdout",
     "output_type": "stream",
     "text": [
      "[0 1 2 3 4 5 6 7]\n",
      "[[0]\n",
      " [1]\n",
      " [2]\n",
      " [3]\n",
      " [4]\n",
      " [5]\n",
      " [6]\n",
      " [7]]\n",
      "[[0 1 2 3 4 5 6 7]]\n",
      "(8,)\n",
      "(8, 1)\n",
      "(1, 8)\n",
      "[[0]\n",
      " [1]\n",
      " [2]\n",
      " [3]\n",
      " [4]\n",
      " [5]\n",
      " [6]\n",
      " [7]]\n",
      "(8, 1)\n"
     ]
    }
   ],
   "source": [
    "n_convert=np.arange(8)\n",
    "print(n_convert)\n",
    "n_convert1=n_convert[:,np.newaxis]\n",
    "print(n_convert1)\n",
    "n_convert2=n_convert[np.newaxis,:]\n",
    "print(n_convert2)\n",
    "print(n_convert.shape)\n",
    "print(n_convert1.shape)\n",
    "print(n_convert2.shape)\n",
    "n_convert11=np.expand_dims(n_convert,axis=1)\n",
    "print(n_convert11)\n",
    "print(n_convert11.shape)"
   ]
  },
  {
   "cell_type": "code",
   "execution_count": 19,
   "id": "2ecb5081-f880-4e44-9465-f859d5d4aa9f",
   "metadata": {},
   "outputs": [
    {
     "name": "stdout",
     "output_type": "stream",
     "text": [
      "[2 3 4 5 6 7 8 9]\n",
      "[4 5 6 7 8 9]\n",
      "[4 5 6 7]\n",
      "[5 6 7 8]\n"
     ]
    }
   ],
   "source": [
    "n50=np.arange(2,10)\n",
    "print(n50)\n",
    "print(n50[n50>3])\n",
    "print(n50[(n50>3)&(n50<8)])\n",
    "\n",
    "print(n50[3:7])\n"
   ]
  },
  {
   "cell_type": "code",
   "execution_count": 20,
   "id": "b9cb0f92-9501-4faa-bd8a-4e7ff0d6cf3e",
   "metadata": {},
   "outputs": [
    {
     "name": "stdout",
     "output_type": "stream",
     "text": [
      "[[12 16 22 26]\n",
      " [14 18 24 28]]\n",
      "[[12 16]\n",
      " [14 18]\n",
      " [22 26]\n",
      " [24 28]]\n",
      "[ 0  1  2  3  4  5  6  7  8  9 10 11 12 13 14 15 16 17 18 19]\n",
      "[array([0, 1, 2, 3, 4, 5, 6]), array([ 7,  8,  9, 10, 11, 12, 13]), array([14, 15, 16, 17, 18, 19])]\n"
     ]
    }
   ],
   "source": [
    "nss1=np.array([[12,16],[14,18]])\n",
    "nss2=np.array([[22,26],[24,28]])\n",
    "nss3=np.hstack((nss1,nss2))\n",
    "print(nss3)\n",
    "nss1=np.array([[12,16],[14,18]])\n",
    "nss2=np.array([[22,26],[24,28]])\n",
    "nss3=np.vstack((nss1,nss2))\n",
    "print(nss3)\n",
    "arr_split=np.arange(20)\n",
    "new_arr_split=np.array_split(arr_split,3)\n",
    "print(arr_split)\n",
    "print(new_arr_split)\n"
   ]
  },
  {
   "cell_type": "code",
   "execution_count": 22,
   "id": "6b07c277-cb9b-44d7-9780-24dc833fa037",
   "metadata": {},
   "outputs": [
    {
     "name": "stdout",
     "output_type": "stream",
     "text": [
      "[ 0  1  2  3  4  5  6  7  8  9 10 11 12 13 14 15 16 17 18 19]\n",
      "[array([0, 1, 2, 3, 4]), array([5, 6, 7, 8, 9]), array([10, 11, 12, 13, 14]), array([15, 16, 17, 18, 19])]\n"
     ]
    }
   ],
   "source": [
    "arr_split=np.arange(20)\n",
    "new_arr_split=np.hsplit(arr_split,4)\n",
    "print(arr_split)\n",
    "print(new_arr_split)\n"
   ]
  },
  {
   "cell_type": "code",
   "execution_count": 23,
   "id": "e9307a53-b7d9-449e-bfe8-889c148d00ea",
   "metadata": {},
   "outputs": [
    {
     "name": "stdout",
     "output_type": "stream",
     "text": [
      "[[5 3 2 6 1]\n",
      " [8 2 9 5 1]]\n",
      "[array([[5, 3, 2, 6, 1]]), array([[8, 2, 9, 5, 1]])]\n"
     ]
    }
   ],
   "source": [
    "n2=np.array([[5,3,2,6,1],[8,2,9,5,1]])\n",
    "new_arr_split=np.vsplit(n2,2)\n",
    "print(n2)\n",
    "print(new_arr_split)\n"
   ]
  },
  {
   "cell_type": "code",
   "execution_count": 24,
   "id": "2962996e-cd14-4458-8723-5f4a3d42475b",
   "metadata": {},
   "outputs": [
    {
     "name": "stdout",
     "output_type": "stream",
     "text": [
      "[ 0  1 25  3  4  5  6  7  8  9 10 11 12 13 14 15 16 17 18 19]\n",
      "[ 1 25  3  4]\n"
     ]
    }
   ],
   "source": [
    "arr_copy=arr_split\n",
    "arr_split[2]=25\n",
    "print(arr_copy)\n",
    "arr_copy=arr_split[1:5]\n",
    "arr_split[2]=25\n",
    "print(arr_copy)\n"
   ]
  },
  {
   "cell_type": "code",
   "execution_count": 25,
   "id": "f0652401-972d-44d2-bf24-b3addefb4bc7",
   "metadata": {},
   "outputs": [
    {
     "name": "stdout",
     "output_type": "stream",
     "text": [
      "[ 0  1 25 43  4  5  6  7  8  9 10 11 12 13 14 15 16 17 18 19]\n",
      "[ 0  1 25  3  4  5  6  7  8  9 10 11 12 13 14 15 16 17 18 19]\n"
     ]
    }
   ],
   "source": [
    "arr_copy=arr_split.copy()\n",
    "arr_split[3]=43\n",
    "print(arr_split)\n",
    "print(arr_copy)"
   ]
  },
  {
   "cell_type": "code",
   "execution_count": 30,
   "id": "7cc65197-8c3c-4a42-9dce-338c29c413bc",
   "metadata": {},
   "outputs": [
    {
     "name": "stdout",
     "output_type": "stream",
     "text": [
      "[[34 42]\n",
      " [38 46]]\n",
      "[[264 416]\n",
      " [336 504]]\n",
      "253\n",
      "43\n",
      "0\n",
      "[  0  10 250 430  40  50  60  70  80  90 100 110 120 130 140 150 160 170\n",
      " 180 190]\n",
      "[ 1.          0.54030231  0.99120281  0.5551133  -0.65364362  0.28366219\n",
      "  0.96017029  0.75390225 -0.14550003 -0.91113026 -0.83907153  0.0044257\n",
      "  0.84385396  0.90744678  0.13673722 -0.75968791 -0.95765948 -0.27516334\n",
      "  0.66031671  0.98870462]\n"
     ]
    }
   ],
   "source": [
    "print(nss1+nss2)\n",
    "print(nss1*nss2)\n",
    "print(arr_split.sum())\n",
    "print(arr_split.max())\n",
    "print(arr_split.min())\n",
    "print(arr_split*10)\n",
    "print(np.cos(arr_split))"
   ]
  },
  {
   "cell_type": "code",
   "execution_count": 29,
   "id": "c2820a70-5e8a-4deb-8990-4fa77758a13b",
   "metadata": {},
   "outputs": [
    {
     "data": {
      "text/plain": [
       "array([[0, 2],\n",
       "       [5, 9]], dtype=int32)"
      ]
     },
     "execution_count": 29,
     "metadata": {},
     "output_type": "execute_result"
    }
   ],
   "source": [
    "np.random.rand(3,3,3)\n",
    "np.random.randint(10,size=(2,2))\n"
   ]
  },
  {
   "cell_type": "code",
   "execution_count": null,
   "id": "8b4b9249-2cb6-4c10-9fec-b041ff397d3d",
   "metadata": {},
   "outputs": [],
   "source": []
  }
 ],
 "metadata": {
  "kernelspec": {
   "display_name": "Python 3 (ipykernel)",
   "language": "python",
   "name": "python3"
  },
  "language_info": {
   "codemirror_mode": {
    "name": "ipython",
    "version": 3
   },
   "file_extension": ".py",
   "mimetype": "text/x-python",
   "name": "python",
   "nbconvert_exporter": "python",
   "pygments_lexer": "ipython3",
   "version": "3.13.1"
  }
 },
 "nbformat": 4,
 "nbformat_minor": 5
}
